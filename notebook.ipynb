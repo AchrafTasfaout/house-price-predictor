{
 "cells": [
  {
   "cell_type": "markdown",
   "id": "dc6b7506",
   "metadata": {},
   "source": [
    "# Understanding the Problem"
   ]
  },
  {
   "cell_type": "markdown",
   "id": "86cd4e69",
   "metadata": {},
   "source": [
    "## Defining the problem\n",
    "When either buying, selling, or exchanging a house, estimating the price could be a tricky task, especially for the average homeowner. Usually, the ask price (set by the seller) is higher than the true worth. Conversely, the bid price (set by the buyer) is typically lower. This creates unfair market conditions leading to either overpriced or underpriced properties.\n",
    "\n",
    "The traditional approach for estimating a house's value, is to use recent sales prices of neighbouring properties and use it as a benchmark for estimating the property in question. This approach is inaccurate since every property is unique in itself, and the sales prices may not reflect the true worth. Instead, the home's value is determined by its features including location, size, number of rooms, and amenities, just to name a few."
   ]
  },
  {
   "cell_type": "markdown",
   "id": "0bc75908",
   "metadata": {},
   "source": [
    "## Setting the Goal\n",
    "The goal of this project is to build a house price prediction model, which can accurately estimate a property's market worth based on its features, thus resulting in fairer pricing for all parties involved."
   ]
  },
  {
   "cell_type": "markdown",
   "id": "9be98cfa",
   "metadata": {},
   "source": [
    "## Identifying the type of problem\n",
    "This is a supervised regression problem, where the target variable is the price of the house, and the features are the characteristics of the house."
   ]
  },
  {
   "cell_type": "markdown",
   "id": "1db7d912",
   "metadata": {},
   "source": [
    "# Gathering Data"
   ]
  },
  {
   "cell_type": "markdown",
   "id": "24476d15",
   "metadata": {},
   "source": [
    "## About Dataset\n",
    "\n",
    "The **Paris Housing Dataset** is publicly available on Kaggle, and it contains data on various features of houses in Paris, France, along with their corresponding price values. The dataset is well-suited for solving the target problem, given its good amount of features and many instances.\n",
    "\n",
    "The dataset contains features such as the number of rooms, floors, area, location, and amenities, among others. These attributes provide valuable insights into the factors that affect the price of a house in Paris. The dataset is in CSV format, which means it can be easily loaded and manipulated with the chosen tools."
   ]
  },
  {
   "cell_type": "markdown",
   "id": "ead0a287",
   "metadata": {},
   "source": [
    "## Features Description (Data dictionary)\n",
    "- **squareMeters** - house size in square meters\n",
    "- **numberOfRooms** - number of house rooms\n",
    "- **hasYard** - whether house includes a yard 0 - no, 1 - yes\n",
    "- **hasPool** - whether house includes a pool 0 - no, 1 - yes\n",
    "- **floors** - number of floors\n",
    "- **cityCode** - zip code\n",
    "- **cityPartRange** - the higher the range, the more exclusive the neighbourhood is\n",
    "- **numPrevOwners** - number of previous owners\n",
    "- **made** - year built\n",
    "- **isNewBuilt** - whether new/renovated 0 - no, 1 - yes\n",
    "- **hasStormProtector** - whether house is equipped a storm protector 0 - no, 1 - yes\n",
    "- **basement** - basement size square meters\n",
    "- **attic** - attic size in square meters\n",
    "- **garage** - garage size in square meters\n",
    "- **hasStorageRoom** - whether house includes a storage room  0 - no, 1 - yes\n",
    "- **hasGuestRoom** - number of guest rooms\n",
    "- **price** - predicted value"
   ]
  },
  {
   "cell_type": "markdown",
   "id": "7f8af47e",
   "metadata": {},
   "source": [
    "## Importing Libraries"
   ]
  },
  {
   "cell_type": "code",
   "execution_count": 52,
   "id": "1b1898c5",
   "metadata": {},
   "outputs": [],
   "source": [
    "import numpy as np \n",
    "import pandas as pd\n",
    "import matplotlib.pyplot as plt\n",
    "import seaborn as sns\n",
    "import warnings\n",
    "\n",
    "from sklearn.preprocessing import StandardScaler\n",
    "from sklearn.model_selection import train_test_split\n",
    "from sklearn.metrics import mean_squared_error, mean_absolute_error, mean_absolute_percentage_error\n",
    "from sklearn.linear_model import LinearRegression\n",
    "from sklearn.ensemble import RandomForestRegressor\n",
    "from sklearn.svm import SVR\n",
    "from sklearn.neural_network import MLPRegressor"
   ]
  },
  {
   "cell_type": "markdown",
   "id": "9f0ffa6c",
   "metadata": {},
   "source": [
    "## Configuring properties"
   ]
  },
  {
   "cell_type": "code",
   "execution_count": 53,
   "id": "69a6db4a",
   "metadata": {},
   "outputs": [],
   "source": [
    "%matplotlib inline\n",
    "\n",
    "warnings.filterwarnings(\"ignore\")\n",
    "\n",
    "pd.set_option('display.max_columns',100)          \n",
    "pd.set_option('display.max_rows',100)"
   ]
  },
  {
   "cell_type": "markdown",
   "id": "3c6903f5",
   "metadata": {},
   "source": [
    "## Loading the Data"
   ]
  },
  {
   "cell_type": "code",
   "execution_count": 54,
   "id": "2d29d01a",
   "metadata": {},
   "outputs": [],
   "source": [
    "df = pd.read_csv(\"ParisHousing.csv\")"
   ]
  },
  {
   "cell_type": "markdown",
   "id": "e256f25b",
   "metadata": {},
   "source": [
    "# Inspecting the Dataframe"
   ]
  },
  {
   "cell_type": "markdown",
   "id": "9de98201",
   "metadata": {},
   "source": [
    "## Size (Rows, Columns)"
   ]
  },
  {
   "cell_type": "code",
   "execution_count": 55,
   "id": "e7a6085d",
   "metadata": {},
   "outputs": [
    {
     "data": {
      "text/plain": [
       "(10000, 17)"
      ]
     },
     "execution_count": 55,
     "metadata": {},
     "output_type": "execute_result"
    }
   ],
   "source": [
    "df.shape"
   ]
  },
  {
   "cell_type": "markdown",
   "id": "2f6be9ba",
   "metadata": {},
   "source": [
    "## Preview"
   ]
  },
  {
   "cell_type": "code",
   "execution_count": 56,
   "id": "4ef541b0",
   "metadata": {},
   "outputs": [
    {
     "data": {
      "text/html": [
       "<div>\n",
       "<style scoped>\n",
       "    .dataframe tbody tr th:only-of-type {\n",
       "        vertical-align: middle;\n",
       "    }\n",
       "\n",
       "    .dataframe tbody tr th {\n",
       "        vertical-align: top;\n",
       "    }\n",
       "\n",
       "    .dataframe thead th {\n",
       "        text-align: right;\n",
       "    }\n",
       "</style>\n",
       "<table border=\"1\" class=\"dataframe\">\n",
       "  <thead>\n",
       "    <tr style=\"text-align: right;\">\n",
       "      <th></th>\n",
       "      <th>squareMeters</th>\n",
       "      <th>numberOfRooms</th>\n",
       "      <th>hasYard</th>\n",
       "      <th>hasPool</th>\n",
       "      <th>floors</th>\n",
       "      <th>cityCode</th>\n",
       "      <th>cityPartRange</th>\n",
       "      <th>numPrevOwners</th>\n",
       "      <th>made</th>\n",
       "      <th>isNewBuilt</th>\n",
       "      <th>hasStormProtector</th>\n",
       "      <th>basement</th>\n",
       "      <th>attic</th>\n",
       "      <th>garage</th>\n",
       "      <th>hasStorageRoom</th>\n",
       "      <th>hasGuestRoom</th>\n",
       "      <th>price</th>\n",
       "    </tr>\n",
       "  </thead>\n",
       "  <tbody>\n",
       "    <tr>\n",
       "      <th>0</th>\n",
       "      <td>75523</td>\n",
       "      <td>3</td>\n",
       "      <td>0</td>\n",
       "      <td>1</td>\n",
       "      <td>63</td>\n",
       "      <td>9373</td>\n",
       "      <td>3</td>\n",
       "      <td>8</td>\n",
       "      <td>2005</td>\n",
       "      <td>0</td>\n",
       "      <td>1</td>\n",
       "      <td>4313</td>\n",
       "      <td>9005</td>\n",
       "      <td>956</td>\n",
       "      <td>0</td>\n",
       "      <td>7</td>\n",
       "      <td>7559081.5</td>\n",
       "    </tr>\n",
       "    <tr>\n",
       "      <th>1</th>\n",
       "      <td>80771</td>\n",
       "      <td>39</td>\n",
       "      <td>1</td>\n",
       "      <td>1</td>\n",
       "      <td>98</td>\n",
       "      <td>39381</td>\n",
       "      <td>8</td>\n",
       "      <td>6</td>\n",
       "      <td>2015</td>\n",
       "      <td>1</td>\n",
       "      <td>0</td>\n",
       "      <td>3653</td>\n",
       "      <td>2436</td>\n",
       "      <td>128</td>\n",
       "      <td>1</td>\n",
       "      <td>2</td>\n",
       "      <td>8085989.5</td>\n",
       "    </tr>\n",
       "    <tr>\n",
       "      <th>2</th>\n",
       "      <td>55712</td>\n",
       "      <td>58</td>\n",
       "      <td>0</td>\n",
       "      <td>1</td>\n",
       "      <td>19</td>\n",
       "      <td>34457</td>\n",
       "      <td>6</td>\n",
       "      <td>8</td>\n",
       "      <td>2021</td>\n",
       "      <td>0</td>\n",
       "      <td>0</td>\n",
       "      <td>2937</td>\n",
       "      <td>8852</td>\n",
       "      <td>135</td>\n",
       "      <td>1</td>\n",
       "      <td>9</td>\n",
       "      <td>5574642.1</td>\n",
       "    </tr>\n",
       "    <tr>\n",
       "      <th>3</th>\n",
       "      <td>32316</td>\n",
       "      <td>47</td>\n",
       "      <td>0</td>\n",
       "      <td>0</td>\n",
       "      <td>6</td>\n",
       "      <td>27939</td>\n",
       "      <td>10</td>\n",
       "      <td>4</td>\n",
       "      <td>2012</td>\n",
       "      <td>0</td>\n",
       "      <td>1</td>\n",
       "      <td>659</td>\n",
       "      <td>7141</td>\n",
       "      <td>359</td>\n",
       "      <td>0</td>\n",
       "      <td>3</td>\n",
       "      <td>3232561.2</td>\n",
       "    </tr>\n",
       "    <tr>\n",
       "      <th>4</th>\n",
       "      <td>70429</td>\n",
       "      <td>19</td>\n",
       "      <td>1</td>\n",
       "      <td>1</td>\n",
       "      <td>90</td>\n",
       "      <td>38045</td>\n",
       "      <td>3</td>\n",
       "      <td>7</td>\n",
       "      <td>1990</td>\n",
       "      <td>1</td>\n",
       "      <td>0</td>\n",
       "      <td>8435</td>\n",
       "      <td>2429</td>\n",
       "      <td>292</td>\n",
       "      <td>1</td>\n",
       "      <td>4</td>\n",
       "      <td>7055052.0</td>\n",
       "    </tr>\n",
       "  </tbody>\n",
       "</table>\n",
       "</div>"
      ],
      "text/plain": [
       "   squareMeters  numberOfRooms  hasYard  hasPool  floors  cityCode   \n",
       "0         75523              3        0        1      63      9373  \\\n",
       "1         80771             39        1        1      98     39381   \n",
       "2         55712             58        0        1      19     34457   \n",
       "3         32316             47        0        0       6     27939   \n",
       "4         70429             19        1        1      90     38045   \n",
       "\n",
       "   cityPartRange  numPrevOwners  made  isNewBuilt  hasStormProtector   \n",
       "0              3              8  2005           0                  1  \\\n",
       "1              8              6  2015           1                  0   \n",
       "2              6              8  2021           0                  0   \n",
       "3             10              4  2012           0                  1   \n",
       "4              3              7  1990           1                  0   \n",
       "\n",
       "   basement  attic  garage  hasStorageRoom  hasGuestRoom      price  \n",
       "0      4313   9005     956               0             7  7559081.5  \n",
       "1      3653   2436     128               1             2  8085989.5  \n",
       "2      2937   8852     135               1             9  5574642.1  \n",
       "3       659   7141     359               0             3  3232561.2  \n",
       "4      8435   2429     292               1             4  7055052.0  "
      ]
     },
     "execution_count": 56,
     "metadata": {},
     "output_type": "execute_result"
    }
   ],
   "source": [
    "df.head()"
   ]
  },
  {
   "cell_type": "markdown",
   "id": "1ce19782",
   "metadata": {},
   "source": [
    "## Datatypes"
   ]
  },
  {
   "cell_type": "code",
   "execution_count": 57,
   "id": "29d943f5",
   "metadata": {},
   "outputs": [
    {
     "data": {
      "text/plain": [
       "int64      16\n",
       "float64     1\n",
       "Name: count, dtype: int64"
      ]
     },
     "execution_count": 57,
     "metadata": {},
     "output_type": "execute_result"
    }
   ],
   "source": [
    "pd.value_counts(df.dtypes)"
   ]
  },
  {
   "cell_type": "markdown",
   "id": "119e99c4",
   "metadata": {},
   "source": [
    "**Insight:** Many columns store categorical data, but for the moment have unsuitable datatypes (int64). It is better to convert them to a more suitable datatype (category) for storing categorical data.\n",
    "\n",
    "Let's first split our features into two predominant categories: **numerical** and **binary** (categorical). This will make it easy to refer to them later on."
   ]
  },
  {
   "cell_type": "code",
   "execution_count": 58,
   "id": "1727eb4f",
   "metadata": {},
   "outputs": [],
   "source": [
    "# Numerical ratio-scale features\n",
    "num_features = ['squareMeters', 'numberOfRooms', 'floors', 'numPrevOwners', 'basement', 'attic', 'garage', 'hasGuestRoom']\n",
    "# Binary features\n",
    "bin_features = ['hasYard', 'hasPool', 'isNewBuilt', 'hasStormProtector', 'hasStorageRoom']"
   ]
  },
  {
   "cell_type": "markdown",
   "id": "65387752",
   "metadata": {},
   "source": [
    "Then, we can convert the binary features to the category datatype."
   ]
  },
  {
   "cell_type": "code",
   "execution_count": 59,
   "id": "248a06f6",
   "metadata": {},
   "outputs": [],
   "source": [
    "df[bin_features] = df[bin_features].astype('category')"
   ]
  },
  {
   "cell_type": "markdown",
   "id": "75fef167",
   "metadata": {},
   "source": [
    "## Columns summary (Describe)"
   ]
  },
  {
   "cell_type": "markdown",
   "id": "fa441948",
   "metadata": {},
   "source": [
    "Next, let's look at the five number summary of the numerical features. This will give us a good idea of the distribution of the data."
   ]
  },
  {
   "cell_type": "code",
   "execution_count": 60,
   "id": "923fdd38",
   "metadata": {},
   "outputs": [
    {
     "data": {
      "text/html": [
       "<div>\n",
       "<style scoped>\n",
       "    .dataframe tbody tr th:only-of-type {\n",
       "        vertical-align: middle;\n",
       "    }\n",
       "\n",
       "    .dataframe tbody tr th {\n",
       "        vertical-align: top;\n",
       "    }\n",
       "\n",
       "    .dataframe thead th {\n",
       "        text-align: right;\n",
       "    }\n",
       "</style>\n",
       "<table border=\"1\" class=\"dataframe\">\n",
       "  <thead>\n",
       "    <tr style=\"text-align: right;\">\n",
       "      <th></th>\n",
       "      <th>squareMeters</th>\n",
       "      <th>numberOfRooms</th>\n",
       "      <th>floors</th>\n",
       "      <th>numPrevOwners</th>\n",
       "      <th>basement</th>\n",
       "      <th>attic</th>\n",
       "      <th>garage</th>\n",
       "      <th>hasGuestRoom</th>\n",
       "      <th>price</th>\n",
       "    </tr>\n",
       "  </thead>\n",
       "  <tbody>\n",
       "    <tr>\n",
       "      <th>count</th>\n",
       "      <td>10000.00000</td>\n",
       "      <td>10000.000000</td>\n",
       "      <td>10000.000000</td>\n",
       "      <td>10000.000000</td>\n",
       "      <td>10000.000000</td>\n",
       "      <td>10000.00000</td>\n",
       "      <td>10000.00000</td>\n",
       "      <td>10000.00000</td>\n",
       "      <td>1.000000e+04</td>\n",
       "    </tr>\n",
       "    <tr>\n",
       "      <th>mean</th>\n",
       "      <td>49870.13120</td>\n",
       "      <td>50.358400</td>\n",
       "      <td>50.276300</td>\n",
       "      <td>5.521700</td>\n",
       "      <td>5033.103900</td>\n",
       "      <td>5028.01060</td>\n",
       "      <td>553.12120</td>\n",
       "      <td>4.99460</td>\n",
       "      <td>4.993448e+06</td>\n",
       "    </tr>\n",
       "    <tr>\n",
       "      <th>std</th>\n",
       "      <td>28774.37535</td>\n",
       "      <td>28.816696</td>\n",
       "      <td>28.889171</td>\n",
       "      <td>2.856667</td>\n",
       "      <td>2876.729545</td>\n",
       "      <td>2894.33221</td>\n",
       "      <td>262.05017</td>\n",
       "      <td>3.17641</td>\n",
       "      <td>2.877424e+06</td>\n",
       "    </tr>\n",
       "    <tr>\n",
       "      <th>min</th>\n",
       "      <td>89.00000</td>\n",
       "      <td>1.000000</td>\n",
       "      <td>1.000000</td>\n",
       "      <td>1.000000</td>\n",
       "      <td>0.000000</td>\n",
       "      <td>1.00000</td>\n",
       "      <td>100.00000</td>\n",
       "      <td>0.00000</td>\n",
       "      <td>1.031350e+04</td>\n",
       "    </tr>\n",
       "    <tr>\n",
       "      <th>25%</th>\n",
       "      <td>25098.50000</td>\n",
       "      <td>25.000000</td>\n",
       "      <td>25.000000</td>\n",
       "      <td>3.000000</td>\n",
       "      <td>2559.750000</td>\n",
       "      <td>2512.00000</td>\n",
       "      <td>327.75000</td>\n",
       "      <td>2.00000</td>\n",
       "      <td>2.516402e+06</td>\n",
       "    </tr>\n",
       "    <tr>\n",
       "      <th>50%</th>\n",
       "      <td>50105.50000</td>\n",
       "      <td>50.000000</td>\n",
       "      <td>50.000000</td>\n",
       "      <td>5.000000</td>\n",
       "      <td>5092.500000</td>\n",
       "      <td>5045.00000</td>\n",
       "      <td>554.00000</td>\n",
       "      <td>5.00000</td>\n",
       "      <td>5.016180e+06</td>\n",
       "    </tr>\n",
       "    <tr>\n",
       "      <th>75%</th>\n",
       "      <td>74609.75000</td>\n",
       "      <td>75.000000</td>\n",
       "      <td>76.000000</td>\n",
       "      <td>8.000000</td>\n",
       "      <td>7511.250000</td>\n",
       "      <td>7540.50000</td>\n",
       "      <td>777.25000</td>\n",
       "      <td>8.00000</td>\n",
       "      <td>7.469092e+06</td>\n",
       "    </tr>\n",
       "    <tr>\n",
       "      <th>max</th>\n",
       "      <td>99999.00000</td>\n",
       "      <td>100.000000</td>\n",
       "      <td>100.000000</td>\n",
       "      <td>10.000000</td>\n",
       "      <td>10000.000000</td>\n",
       "      <td>10000.00000</td>\n",
       "      <td>1000.00000</td>\n",
       "      <td>10.00000</td>\n",
       "      <td>1.000677e+07</td>\n",
       "    </tr>\n",
       "  </tbody>\n",
       "</table>\n",
       "</div>"
      ],
      "text/plain": [
       "       squareMeters  numberOfRooms        floors  numPrevOwners      basement   \n",
       "count   10000.00000   10000.000000  10000.000000   10000.000000  10000.000000  \\\n",
       "mean    49870.13120      50.358400     50.276300       5.521700   5033.103900   \n",
       "std     28774.37535      28.816696     28.889171       2.856667   2876.729545   \n",
       "min        89.00000       1.000000      1.000000       1.000000      0.000000   \n",
       "25%     25098.50000      25.000000     25.000000       3.000000   2559.750000   \n",
       "50%     50105.50000      50.000000     50.000000       5.000000   5092.500000   \n",
       "75%     74609.75000      75.000000     76.000000       8.000000   7511.250000   \n",
       "max     99999.00000     100.000000    100.000000      10.000000  10000.000000   \n",
       "\n",
       "             attic       garage  hasGuestRoom         price  \n",
       "count  10000.00000  10000.00000   10000.00000  1.000000e+04  \n",
       "mean    5028.01060    553.12120       4.99460  4.993448e+06  \n",
       "std     2894.33221    262.05017       3.17641  2.877424e+06  \n",
       "min        1.00000    100.00000       0.00000  1.031350e+04  \n",
       "25%     2512.00000    327.75000       2.00000  2.516402e+06  \n",
       "50%     5045.00000    554.00000       5.00000  5.016180e+06  \n",
       "75%     7540.50000    777.25000       8.00000  7.469092e+06  \n",
       "max    10000.00000   1000.00000      10.00000  1.000677e+07  "
      ]
     },
     "execution_count": 60,
     "metadata": {},
     "output_type": "execute_result"
    }
   ],
   "source": [
    "df[num_features + ['price']].describe()"
   ]
  },
  {
   "cell_type": "markdown",
   "id": "13bd8634",
   "metadata": {},
   "source": [
    "Lastly, let's look at a sumary of the binary features."
   ]
  },
  {
   "cell_type": "code",
   "execution_count": 61,
   "id": "3b88c567",
   "metadata": {},
   "outputs": [
    {
     "data": {
      "text/html": [
       "<div>\n",
       "<style scoped>\n",
       "    .dataframe tbody tr th:only-of-type {\n",
       "        vertical-align: middle;\n",
       "    }\n",
       "\n",
       "    .dataframe tbody tr th {\n",
       "        vertical-align: top;\n",
       "    }\n",
       "\n",
       "    .dataframe thead th {\n",
       "        text-align: right;\n",
       "    }\n",
       "</style>\n",
       "<table border=\"1\" class=\"dataframe\">\n",
       "  <thead>\n",
       "    <tr style=\"text-align: right;\">\n",
       "      <th></th>\n",
       "      <th>hasYard</th>\n",
       "      <th>hasPool</th>\n",
       "      <th>isNewBuilt</th>\n",
       "      <th>hasStormProtector</th>\n",
       "      <th>hasStorageRoom</th>\n",
       "    </tr>\n",
       "  </thead>\n",
       "  <tbody>\n",
       "    <tr>\n",
       "      <th>count</th>\n",
       "      <td>10000</td>\n",
       "      <td>10000</td>\n",
       "      <td>10000</td>\n",
       "      <td>10000</td>\n",
       "      <td>10000</td>\n",
       "    </tr>\n",
       "    <tr>\n",
       "      <th>unique</th>\n",
       "      <td>2</td>\n",
       "      <td>2</td>\n",
       "      <td>2</td>\n",
       "      <td>2</td>\n",
       "      <td>2</td>\n",
       "    </tr>\n",
       "    <tr>\n",
       "      <th>top</th>\n",
       "      <td>1</td>\n",
       "      <td>0</td>\n",
       "      <td>0</td>\n",
       "      <td>0</td>\n",
       "      <td>1</td>\n",
       "    </tr>\n",
       "    <tr>\n",
       "      <th>freq</th>\n",
       "      <td>5087</td>\n",
       "      <td>5032</td>\n",
       "      <td>5009</td>\n",
       "      <td>5001</td>\n",
       "      <td>5030</td>\n",
       "    </tr>\n",
       "  </tbody>\n",
       "</table>\n",
       "</div>"
      ],
      "text/plain": [
       "        hasYard  hasPool  isNewBuilt  hasStormProtector  hasStorageRoom\n",
       "count     10000    10000       10000              10000           10000\n",
       "unique        2        2           2                  2               2\n",
       "top           1        0           0                  0               1\n",
       "freq       5087     5032        5009               5001            5030"
      ]
     },
     "execution_count": 61,
     "metadata": {},
     "output_type": "execute_result"
    }
   ],
   "source": [
    "df.describe(include = [\"category\",])"
   ]
  },
  {
   "cell_type": "markdown",
   "id": "7d24b45f",
   "metadata": {},
   "source": [
    "# Preparing the Data"
   ]
  },
  {
   "cell_type": "markdown",
   "id": "c7745c06",
   "metadata": {},
   "source": [
    "## Data Cleaning"
   ]
  },
  {
   "cell_type": "markdown",
   "id": "56012a48",
   "metadata": {},
   "source": [
    "### Handling missing values\n",
    "Let's check if there are any missing values in the dataset."
   ]
  },
  {
   "cell_type": "code",
   "execution_count": 62,
   "id": "e37b9ccd",
   "metadata": {},
   "outputs": [
    {
     "data": {
      "text/plain": [
       "squareMeters         False\n",
       "numberOfRooms        False\n",
       "hasYard              False\n",
       "hasPool              False\n",
       "floors               False\n",
       "cityCode             False\n",
       "cityPartRange        False\n",
       "numPrevOwners        False\n",
       "made                 False\n",
       "isNewBuilt           False\n",
       "hasStormProtector    False\n",
       "basement             False\n",
       "attic                False\n",
       "garage               False\n",
       "hasStorageRoom       False\n",
       "hasGuestRoom         False\n",
       "price                False\n",
       "dtype: bool"
      ]
     },
     "execution_count": 62,
     "metadata": {},
     "output_type": "execute_result"
    }
   ],
   "source": [
    "df.isna().any()"
   ]
  },
  {
   "cell_type": "markdown",
   "id": "841e8fe7",
   "metadata": {},
   "source": [
    "**Insight:** There are no missing values in the dataset."
   ]
  },
  {
   "cell_type": "markdown",
   "id": "9556602f",
   "metadata": {},
   "source": [
    "### Handling outliers\n",
    "Let's check if there are any outliers in the numerical columns."
   ]
  },
  {
   "cell_type": "code",
   "execution_count": 63,
   "id": "a01aba86",
   "metadata": {},
   "outputs": [
    {
     "data": {
      "image/png": "[encoded data removed]",
      "text/plain": [
       "<Figure size 1500x1500 with 9 Axes>"
      ]
     },
     "metadata": {},
     "output_type": "display_data"
    }
   ],
   "source": [
    "fig, axes = plt.subplots(3, 3, figsize=(15, 15))\n",
    "for i, col in enumerate(num_features + ['price']):\n",
    "    sns.boxplot(x=df[col], ax=axes[i//3, i%3], palette=\"Blues\")"
   ]
  },
  {
   "cell_type": "markdown",
   "id": "02695d2d",
   "metadata": {},
   "source": [
    "**Insight:** There are no apparent outliers in the dataset. There are also no negative (invalid) values in the above columns."
   ]
  },
  {
   "cell_type": "markdown",
   "id": "8018ef32",
   "metadata": {},
   "source": [
    "### Handling duplicate rows\n",
    "Let's now check if there are any duplicate rows in the dataset."
   ]
  },
  {
   "cell_type": "code",
   "execution_count": 64,
   "id": "b4497c12",
   "metadata": {},
   "outputs": [
    {
     "data": {
      "text/plain": [
       "0"
      ]
     },
     "execution_count": 64,
     "metadata": {},
     "output_type": "execute_result"
    }
   ],
   "source": [
    "df.duplicated().sum()"
   ]
  },
  {
   "cell_type": "markdown",
   "id": "2bbb1eed",
   "metadata": {},
   "source": [
    "**Insight:** There are no duplicate rows in the dataset."
   ]
  },
  {
   "cell_type": "markdown",
   "id": "ed39e7ef",
   "metadata": {},
   "source": [
    "### Handling invalid values\n",
    "Lastly, let's check if there are any invalid values in the dataset. The numerical (quantitative ratio-scaled) columns were already checked for invalid values in the previous section. Let's now check the categorical columns as well as the numerical (quantitative interval-scaled) columns.\n",
    "\n",
    "First, let's check the binary columns."
   ]
  },
  {
   "cell_type": "code",
   "execution_count": 65,
   "id": "822c303b",
   "metadata": {},
   "outputs": [
    {
     "name": "stdout",
     "output_type": "stream",
     "text": [
      "hasYard [0, 1]\n",
      "Categories (2, int64): [0, 1]\n",
      "hasPool [1, 0]\n",
      "Categories (2, int64): [0, 1]\n",
      "isNewBuilt [0, 1]\n",
      "Categories (2, int64): [0, 1]\n",
      "hasStormProtector [1, 0]\n",
      "Categories (2, int64): [0, 1]\n",
      "hasStorageRoom [0, 1]\n",
      "Categories (2, int64): [0, 1]\n"
     ]
    }
   ],
   "source": [
    "for col in bin_features:\n",
    "    print(col , pd.unique(df[col]))"
   ]
  },
  {
   "cell_type": "markdown",
   "id": "85916bbb",
   "metadata": {},
   "source": [
    "**Insight:** There are no invalid values in the binary columns, only binary values (0 and 1).\n",
    "\n",
    "Let's now look at the other categorical columns (both nominal and ordinal), starting with cityCode."
   ]
  },
  {
   "cell_type": "code",
   "execution_count": 66,
   "id": "05a3d504",
   "metadata": {},
   "outputs": [
    {
     "data": {
      "text/plain": [
       "2"
      ]
     },
     "execution_count": 66,
     "metadata": {},
     "output_type": "execute_result"
    }
   ],
   "source": [
    "# City codes (zip codes) in Paris\n",
    "cityCodes = np.array([75001, 75002, 75003, 75004, 75005, 75006, 75007, 75008, 75009, 75010, 75011, 75012, 75013, 75014, 75015, 75016, 75116, 75017, 75018, 75019, 75020])\n",
    "\n",
    "df['cityCode'].isin(cityCodes).value_counts()[True]"
   ]
  },
  {
   "cell_type": "markdown",
   "id": "a63bce42",
   "metadata": {},
   "source": [
    "**Insight:** Most of the city codes in the dataset are invalid (except for two instances). This makes the cityCode column unusable for our purposes. We will drop this column in the next section.\n",
    "\n",
    "Let's now check the cityPartRange column."
   ]
  },
  {
   "cell_type": "code",
   "execution_count": 67,
   "id": "9932326b",
   "metadata": {},
   "outputs": [
    {
     "data": {
      "text/plain": [
       "10000"
      ]
     },
     "execution_count": 67,
     "metadata": {},
     "output_type": "execute_result"
    }
   ],
   "source": [
    "# City part ranges (arrondissements) in Paris\n",
    "cityParts = np.array([1, 2, 3, 4, 5, 6, 7, 8, 9, 10, 11, 12, 13, 14, 15, 16, 17, 18, 19, 20])\n",
    "\n",
    "df['cityPartRange'].isin(cityParts).sum()"
   ]
  },
  {
   "cell_type": "markdown",
   "id": "e8a9c2be",
   "metadata": {},
   "source": [
    "**Insight:** There are no invalid values in the cityPartRange column.\n",
    "\n",
    "Lastly, Let's look at the quantitative interval-scaled columns."
   ]
  },
  {
   "cell_type": "code",
   "execution_count": 68,
   "id": "2863e80d",
   "metadata": {},
   "outputs": [
    {
     "data": {
      "text/plain": [
       "0"
      ]
     },
     "execution_count": 68,
     "metadata": {},
     "output_type": "execute_result"
    }
   ],
   "source": [
    "# check if it contains years that are negative or are more than 4 digits\n",
    "df['made'].apply(lambda x: len(str(x)) > 4 or x < 0).sum()\n"
   ]
  },
  {
   "cell_type": "markdown",
   "id": "a7808bd7",
   "metadata": {},
   "source": [
    "**Insight:** There are no invalid values in the quantitative interval-scaled columns."
   ]
  },
  {
   "cell_type": "markdown",
   "id": "8bc515d3",
   "metadata": {},
   "source": [
    "## Data Transformation"
   ]
  },
  {
   "cell_type": "markdown",
   "id": "282fe63d",
   "metadata": {},
   "source": [
    "### Data Normalization\n",
    "\n",
    "Since we plan to use Support Vector Regression (SVR) for our model, we need to normalize the data first. This is because SVR is sensitive to the scale of the data, and it is best to scale the data to the same range. We also plan to use Neural Network Regression (NNR) for our model, which also requires the data to be normalized. \n",
    "\n",
    "We will use the **StandardScaler** from scikit-learn to normalize the data. This will transform the data such that its distribution will have a mean value 0 and standard deviation of 1. Since we plan to use NNR and Multiple Linear regression, it is a good practise to normalize the target variable as well."
   ]
  },
  {
   "cell_type": "code",
   "execution_count": 69,
   "id": "1952ad90",
   "metadata": {},
   "outputs": [],
   "source": [
    "scaler = StandardScaler()\n",
    "targetScaler = StandardScaler()\n",
    "df[num_features] = scaler.fit_transform(df[num_features])\n",
    "df['price'] = targetScaler.fit_transform(df['price'].values.reshape(-1, 1))"
   ]
  },
  {
   "cell_type": "markdown",
   "id": "c3b4d7c6",
   "metadata": {},
   "source": [
    "Now, let's take a look at the five number summary of the numerical features and target variable after normalization."
   ]
  },
  {
   "cell_type": "code",
   "execution_count": 70,
   "id": "e04e0683",
   "metadata": {},
   "outputs": [
    {
     "data": {
      "text/html": [
       "<div>\n",
       "<style scoped>\n",
       "    .dataframe tbody tr th:only-of-type {\n",
       "        vertical-align: middle;\n",
       "    }\n",
       "\n",
       "    .dataframe tbody tr th {\n",
       "        vertical-align: top;\n",
       "    }\n",
       "\n",
       "    .dataframe thead th {\n",
       "        text-align: right;\n",
       "    }\n",
       "</style>\n",
       "<table border=\"1\" class=\"dataframe\">\n",
       "  <thead>\n",
       "    <tr style=\"text-align: right;\">\n",
       "      <th></th>\n",
       "      <th>squareMeters</th>\n",
       "      <th>numberOfRooms</th>\n",
       "      <th>floors</th>\n",
       "      <th>numPrevOwners</th>\n",
       "      <th>basement</th>\n",
       "      <th>attic</th>\n",
       "      <th>garage</th>\n",
       "      <th>hasGuestRoom</th>\n",
       "      <th>price</th>\n",
       "    </tr>\n",
       "  </thead>\n",
       "  <tbody>\n",
       "    <tr>\n",
       "      <th>count</th>\n",
       "      <td>1.000000e+04</td>\n",
       "      <td>1.000000e+04</td>\n",
       "      <td>1.000000e+04</td>\n",
       "      <td>1.000000e+04</td>\n",
       "      <td>1.000000e+04</td>\n",
       "      <td>1.000000e+04</td>\n",
       "      <td>1.000000e+04</td>\n",
       "      <td>1.000000e+04</td>\n",
       "      <td>1.000000e+04</td>\n",
       "    </tr>\n",
       "    <tr>\n",
       "      <th>mean</th>\n",
       "      <td>-1.167066e-16</td>\n",
       "      <td>-1.122658e-16</td>\n",
       "      <td>3.126388e-17</td>\n",
       "      <td>-1.492140e-17</td>\n",
       "      <td>-2.327027e-17</td>\n",
       "      <td>1.335820e-16</td>\n",
       "      <td>-1.662670e-16</td>\n",
       "      <td>-7.212009e-17</td>\n",
       "      <td>-1.243450e-17</td>\n",
       "    </tr>\n",
       "    <tr>\n",
       "      <th>std</th>\n",
       "      <td>1.000050e+00</td>\n",
       "      <td>1.000050e+00</td>\n",
       "      <td>1.000050e+00</td>\n",
       "      <td>1.000050e+00</td>\n",
       "      <td>1.000050e+00</td>\n",
       "      <td>1.000050e+00</td>\n",
       "      <td>1.000050e+00</td>\n",
       "      <td>1.000050e+00</td>\n",
       "      <td>1.000050e+00</td>\n",
       "    </tr>\n",
       "    <tr>\n",
       "      <th>min</th>\n",
       "      <td>-1.730137e+00</td>\n",
       "      <td>-1.712926e+00</td>\n",
       "      <td>-1.705787e+00</td>\n",
       "      <td>-1.582938e+00</td>\n",
       "      <td>-1.749680e+00</td>\n",
       "      <td>-1.736933e+00</td>\n",
       "      <td>-1.729226e+00</td>\n",
       "      <td>-1.572483e+00</td>\n",
       "      <td>-1.731890e+00</td>\n",
       "    </tr>\n",
       "    <tr>\n",
       "      <th>25%</th>\n",
       "      <td>-8.609351e-01</td>\n",
       "      <td>-8.800338e-01</td>\n",
       "      <td>-8.749840e-01</td>\n",
       "      <td>-8.827862e-01</td>\n",
       "      <td>-8.598228e-01</td>\n",
       "      <td>-8.693323e-01</td>\n",
       "      <td>-8.600737e-01</td>\n",
       "      <td>-9.428096e-01</td>\n",
       "      <td>-8.608983e-01</td>\n",
       "    </tr>\n",
       "    <tr>\n",
       "      <th>50%</th>\n",
       "      <td>8.180215e-03</td>\n",
       "      <td>-1.243786e-02</td>\n",
       "      <td>-9.564616e-03</td>\n",
       "      <td>-1.826346e-01</td>\n",
       "      <td>2.064812e-02</td>\n",
       "      <td>5.870179e-03</td>\n",
       "      <td>3.353724e-03</td>\n",
       "      <td>1.700117e-03</td>\n",
       "      <td>7.900786e-03</td>\n",
       "    </tr>\n",
       "    <tr>\n",
       "      <th>75%</th>\n",
       "      <td>8.598225e-01</td>\n",
       "      <td>8.551581e-01</td>\n",
       "      <td>8.904716e-01</td>\n",
       "      <td>8.675929e-01</td>\n",
       "      <td>8.614887e-01</td>\n",
       "      <td>8.681156e-01</td>\n",
       "      <td>8.553324e-01</td>\n",
       "      <td>9.462098e-01</td>\n",
       "      <td>8.604115e-01</td>\n",
       "    </tr>\n",
       "    <tr>\n",
       "      <th>max</th>\n",
       "      <td>1.742223e+00</td>\n",
       "      <td>1.722754e+00</td>\n",
       "      <td>1.721274e+00</td>\n",
       "      <td>1.567745e+00</td>\n",
       "      <td>1.726664e+00</td>\n",
       "      <td>1.717922e+00</td>\n",
       "      <td>1.705403e+00</td>\n",
       "      <td>1.575883e+00</td>\n",
       "      <td>1.742383e+00</td>\n",
       "    </tr>\n",
       "  </tbody>\n",
       "</table>\n",
       "</div>"
      ],
      "text/plain": [
       "       squareMeters  numberOfRooms        floors  numPrevOwners      basement   \n",
       "count  1.000000e+04   1.000000e+04  1.000000e+04   1.000000e+04  1.000000e+04  \\\n",
       "mean  -1.167066e-16  -1.122658e-16  3.126388e-17  -1.492140e-17 -2.327027e-17   \n",
       "std    1.000050e+00   1.000050e+00  1.000050e+00   1.000050e+00  1.000050e+00   \n",
       "min   -1.730137e+00  -1.712926e+00 -1.705787e+00  -1.582938e+00 -1.749680e+00   \n",
       "25%   -8.609351e-01  -8.800338e-01 -8.749840e-01  -8.827862e-01 -8.598228e-01   \n",
       "50%    8.180215e-03  -1.243786e-02 -9.564616e-03  -1.826346e-01  2.064812e-02   \n",
       "75%    8.598225e-01   8.551581e-01  8.904716e-01   8.675929e-01  8.614887e-01   \n",
       "max    1.742223e+00   1.722754e+00  1.721274e+00   1.567745e+00  1.726664e+00   \n",
       "\n",
       "              attic        garage  hasGuestRoom         price  \n",
       "count  1.000000e+04  1.000000e+04  1.000000e+04  1.000000e+04  \n",
       "mean   1.335820e-16 -1.662670e-16 -7.212009e-17 -1.243450e-17  \n",
       "std    1.000050e+00  1.000050e+00  1.000050e+00  1.000050e+00  \n",
       "min   -1.736933e+00 -1.729226e+00 -1.572483e+00 -1.731890e+00  \n",
       "25%   -8.693323e-01 -8.600737e-01 -9.428096e-01 -8.608983e-01  \n",
       "50%    5.870179e-03  3.353724e-03  1.700117e-03  7.900786e-03  \n",
       "75%    8.681156e-01  8.553324e-01  9.462098e-01  8.604115e-01  \n",
       "max    1.717922e+00  1.705403e+00  1.575883e+00  1.742383e+00  "
      ]
     },
     "execution_count": 70,
     "metadata": {},
     "output_type": "execute_result"
    }
   ],
   "source": [
    "df[num_features + ['price']].describe()"
   ]
  },
  {
   "cell_type": "markdown",
   "id": "d2ce4ba7",
   "metadata": {},
   "source": [
    "**Insight:** The data is now normalized, with a mean value of 0 (approximately) and standard deviation of 1."
   ]
  },
  {
   "cell_type": "markdown",
   "id": "c4b07795",
   "metadata": {},
   "source": [
    "### Data Encoding\n",
    "While our learning algorithms of interest require the data to be in numerical format, categorical features need to be encoded first. Luckily, our categorical features are already in the appropriate format, so no further encoding is required."
   ]
  },
  {
   "cell_type": "markdown",
   "id": "5eb78975",
   "metadata": {},
   "source": [
    "## Feature Engineering"
   ]
  },
  {
   "cell_type": "markdown",
   "id": "e6e1f5da",
   "metadata": {},
   "source": [
    "### Data Integration\n",
    "In our initial approach, we planned to integrate new features into the dataset that are specific to the cityPartRange (arrondissement). These include crime rate, pollution rate, school rating, public transportation accessibility, and so on. However, we were unable to find a suitable dataset for this purpose that includes a granularity of city parts rather than the city as a whole. Therefore, we will not be integrating any new features from external sources into the dataset."
   ]
  },
  {
   "cell_type": "markdown",
   "id": "1efb24df",
   "metadata": {},
   "source": [
    "### Creating new features\n",
    "First things first, let's create a new feature called **propertyAge** by subtracting the **made** column from the current year. This will give us the age of the property in years. \n",
    "\n",
    "The primary reason for this transformation is interpretability. It's often more intuitive to think about a property's age rather than the year it was built. For example, a coefficient for \"propertyAge\" in a regression model directly communicates how the value of the property changes for each additional year of age, which is easier to understand and communicate than a coefficient for \"made\" (year built).\n",
    "\n",
    "In addition, \"made\" is an absolute measure, while \"age of property\" is a relative measure that automatically adjusts for the current year. This can be beneficial for our purposes."
   ]
  },
  {
   "cell_type": "code",
   "execution_count": 71,
   "id": "bab81a02",
   "metadata": {},
   "outputs": [
    {
     "data": {
      "text/plain": [
       "count    10000.00000\n",
       "mean        17.51150\n",
       "std          9.30809\n",
       "min          2.00000\n",
       "25%          9.00000\n",
       "50%         17.50000\n",
       "75%         26.00000\n",
       "max         33.00000\n",
       "Name: propertyAge, dtype: float64"
      ]
     },
     "execution_count": 71,
     "metadata": {},
     "output_type": "execute_result"
    }
   ],
   "source": [
    "df['propertyAge'] = pd.Timestamp.now().year - df['made']\n",
    "df['propertyAge'].describe()"
   ]
  },
  {
   "cell_type": "markdown",
   "id": "9bbb7409",
   "metadata": {},
   "source": [
    "This new feature needs to be normalized as well, so let's do that."
   ]
  },
  {
   "cell_type": "code",
   "execution_count": 72,
   "id": "8b358550",
   "metadata": {},
   "outputs": [
    {
     "data": {
      "text/plain": [
       "count    1.000000e+04\n",
       "mean    -1.726619e-16\n",
       "std      1.000050e+00\n",
       "min     -1.666537e+00\n",
       "25%     -9.144654e-01\n",
       "50%     -1.235546e-03\n",
       "75%      9.119943e-01\n",
       "max      1.664066e+00\n",
       "Name: propertyAge, dtype: float64"
      ]
     },
     "execution_count": 72,
     "metadata": {},
     "output_type": "execute_result"
    }
   ],
   "source": [
    "df['propertyAge'] = scaler.fit_transform(df[['propertyAge']])\n",
    "df['propertyAge'].describe()"
   ]
  },
  {
   "cell_type": "markdown",
   "id": "a99bfc09",
   "metadata": {},
   "source": [
    "**Insight:** The propertyAge feature is now normalized, with a mean value of 0 (approximately) and standard deviation of 1.\n",
    "\n",
    "Next, we need to add propertyAge to our numerical features list."
   ]
  },
  {
   "cell_type": "code",
   "execution_count": 73,
   "id": "21c81e83",
   "metadata": {},
   "outputs": [],
   "source": [
    "num_features.append('propertyAge')"
   ]
  },
  {
   "cell_type": "markdown",
   "id": "d5efe12e",
   "metadata": {},
   "source": [
    "And last but not least, let's drop the made column from the dataset."
   ]
  },
  {
   "cell_type": "code",
   "execution_count": 74,
   "id": "b1fdb66f",
   "metadata": {},
   "outputs": [],
   "source": [
    "df.drop('made', axis=1, inplace=True)"
   ]
  },
  {
   "cell_type": "markdown",
   "id": "4562ae73",
   "metadata": {},
   "source": [
    "While we are at it, let's change the label of hasGuestRoom to NumGuestRooms (Number of Guest Rooms) to make it more intuitive. As this feature is numerical rather than binary."
   ]
  },
  {
   "cell_type": "code",
   "execution_count": 75,
   "id": "8debdcd9",
   "metadata": {},
   "outputs": [
    {
     "data": {
      "text/plain": [
       "Index(['squareMeters', 'numberOfRooms', 'hasYard', 'hasPool', 'floors',\n",
       "       'cityCode', 'cityPartRange', 'numPrevOwners', 'isNewBuilt',\n",
       "       'hasStormProtector', 'basement', 'attic', 'garage', 'hasStorageRoom',\n",
       "       'numGuestRooms', 'price', 'propertyAge'],\n",
       "      dtype='object')"
      ]
     },
     "execution_count": 75,
     "metadata": {},
     "output_type": "execute_result"
    }
   ],
   "source": [
    "df.rename(columns={'hasGuestRoom': 'numGuestRooms'}, inplace=True)\n",
    "df.columns"
   ]
  },
  {
   "cell_type": "markdown",
   "id": "2f4ac4ad",
   "metadata": {},
   "source": [
    "Let's also update the numerical features list."
   ]
  },
  {
   "cell_type": "code",
   "execution_count": 76,
   "id": "80cc330f",
   "metadata": {},
   "outputs": [
    {
     "data": {
      "text/plain": [
       "['squareMeters',\n",
       " 'numberOfRooms',\n",
       " 'floors',\n",
       " 'numPrevOwners',\n",
       " 'basement',\n",
       " 'attic',\n",
       " 'garage',\n",
       " 'numGuestRooms',\n",
       " 'propertyAge']"
      ]
     },
     "execution_count": 76,
     "metadata": {},
     "output_type": "execute_result"
    }
   ],
   "source": [
    "num_features[num_features.index('hasGuestRoom')] = 'numGuestRooms'\n",
    "num_features"
   ]
  },
  {
   "cell_type": "markdown",
   "id": "cc7f3b09",
   "metadata": {},
   "source": [
    "### Dimensionality reduction\n",
    "Let's start by dropping the cityCode column, since it contains mostly invalid values."
   ]
  },
  {
   "cell_type": "code",
   "execution_count": 77,
   "id": "29cf608b",
   "metadata": {},
   "outputs": [],
   "source": [
    "df.drop('cityCode', axis=1, inplace=True)"
   ]
  },
  {
   "cell_type": "markdown",
   "id": "b88a3cad",
   "metadata": {},
   "source": [
    "Now, let's check the correlation between the numerical columns."
   ]
  },
  {
   "cell_type": "code",
   "execution_count": 78,
   "id": "4c959c39",
   "metadata": {},
   "outputs": [
    {
     "data": {
      "text/plain": [
       "<Axes: >"
      ]
     },
     "execution_count": 78,
     "metadata": {},
     "output_type": "execute_result"
    },
    {
     "data": {
      "image/png": "[encoded data removed]",
      "text/plain": [
       "<Figure size 640x480 with 2 Axes>"
      ]
     },
     "metadata": {},
     "output_type": "display_data"
    }
   ],
   "source": [
    "sns.heatmap(df[num_features].corr(), cmap=\"Blues\",annot=True, annot_kws={\"size\": 7})"
   ]
  },
  {
   "cell_type": "markdown",
   "id": "ff442b0a",
   "metadata": {},
   "source": [
    "**Insight:** There is no strong correlation between any of the numerical columns. This means that we can keep all of them in the dataframe.\n",
    "\n",
    "On the same note, let's check the correlation between the numerical columns and the target variable."
   ]
  },
  {
   "cell_type": "code",
   "execution_count": 79,
   "id": "a3a35686",
   "metadata": {},
   "outputs": [
    {
     "data": {
      "text/plain": [
       "<Axes: >"
      ]
     },
     "execution_count": 79,
     "metadata": {},
     "output_type": "execute_result"
    },
    {
     "data": {
      "image/png": "[encoded data removed]",
      "text/plain": [
       "<Figure size 640x480 with 2 Axes>"
      ]
     },
     "metadata": {},
     "output_type": "display_data"
    }
   ],
   "source": [
    "# check correlation with target variable price with heatmap\n",
    "sns.heatmap(df[num_features + ['price']].corr(), cmap=\"Blues\",annot=True, annot_kws={\"size\": 7})"
   ]
  },
  {
   "cell_type": "markdown",
   "id": "1465bfc0",
   "metadata": {},
   "source": [
    "**Insight:** there is a strong correlation between squareMeters and price, which is expected. Other than that, there is no strong correlation between any of the other numerical columns and price."
   ]
  },
  {
   "cell_type": "markdown",
   "id": "4e488a00",
   "metadata": {},
   "source": [
    "## Data Splitting\n",
    "We will split the data into training and testing sets using the **train_test_split** function from scikit-learn. We will use a 80/20 split, with 80% of the data for training and 20% for testing.\n",
    "\n",
    "First, let's separate our features from the target variable."
   ]
  },
  {
   "cell_type": "code",
   "execution_count": 81,
   "id": "8c1727f5",
   "metadata": {},
   "outputs": [
    {
     "data": {
      "text/plain": [
       "Index(['squareMeters', 'numberOfRooms', 'hasYard', 'hasPool', 'floors',\n",
       "       'cityPartRange', 'numPrevOwners', 'isNewBuilt', 'hasStormProtector',\n",
       "       'basement', 'attic', 'garage', 'hasStorageRoom', 'numGuestRooms',\n",
       "       'propertyAge'],\n",
       "      dtype='object')"
      ]
     },
     "execution_count": 81,
     "metadata": {},
     "output_type": "execute_result"
    }
   ],
   "source": [
    "target = df['price']\n",
    "features = df.drop('price', axis=1, inplace=False)\n",
    "features.columns"
   ]
  },
  {
   "cell_type": "markdown",
   "id": "b1e5c957",
   "metadata": {},
   "source": [
    "Then, let's split the data into training and testing sets."
   ]
  },
  {
   "cell_type": "code",
   "execution_count": 82,
   "id": "c36fd8d6",
   "metadata": {},
   "outputs": [
    {
     "data": {
      "text/plain": [
       "((8000, 15), (2000, 15))"
      ]
     },
     "execution_count": 82,
     "metadata": {},
     "output_type": "execute_result"
    }
   ],
   "source": [
    "X_train, X_test, y_train, y_test = train_test_split(features, target, train_size=0.8, random_state=42)\n",
    "\n",
    "X_train.shape, X_test.shape"
   ]
  },
  {
   "cell_type": "markdown",
   "id": "b8c21af9",
   "metadata": {},
   "source": [
    "# Modeling"
   ]
  },
  {
   "cell_type": "markdown",
   "id": "2bce7b6b",
   "metadata": {},
   "source": [
    "## Selecting the algorithms\n",
    "We will use the following algorithms for our model:\n",
    "* Multiple Linear Regression\n",
    "* Random Forest Regression (RFR)\n",
    "* Support Vector Regression (SVR)\n",
    "* Neural Network Regression (NNR)"
   ]
  },
  {
   "cell_type": "markdown",
   "id": "db90624e",
   "metadata": {},
   "source": [
    "## Deciding on a measure of success\n",
    "We will use the **Mean Absolute Error (MAE)** and **Root Mean Squared Error (RMSE)** as our measures of success. This is because they are easy to interpret as they are in the same units as the target variable (in this case, price). However, the MAE is more robust to outliers than the RMSE, and the RMSE gives a higher weight to large errors. Therefore, we will use both of them to evaluate our models. For further interprebility, we will also use the **Mean Absolute Percentage Error (MAPE)**, which gives us the error as a percentage of the actual value. "
   ]
  },
  {
   "cell_type": "markdown",
   "id": "bfb26d80",
   "metadata": {},
   "source": [
    "## Defining helper functions\n",
    "Let's start with a function that will help us calculate the metrics for each model."
   ]
  },
  {
   "cell_type": "code",
   "execution_count": 83,
   "id": "a34bd705",
   "metadata": {},
   "outputs": [],
   "source": [
    "def getScore(y_true, y_pred):\n",
    "    mae = mean_absolute_error(y_true, y_pred)\n",
    "    rmse = np.sqrt(mean_squared_error(y_true, y_pred))\n",
    "    mape = mean_absolute_percentage_error(y_true, y_pred)\n",
    "    return round(mae, 2), round(rmse, 2), round(mape*100, 2)"
   ]
  },
  {
   "cell_type": "markdown",
   "id": "c4d47b06",
   "metadata": {},
   "source": [
    "Let's also define a function that will help us print the metrics in a nice format."
   ]
  },
  {
   "cell_type": "code",
   "execution_count": 84,
   "id": "eeabac33",
   "metadata": {},
   "outputs": [],
   "source": [
    "def printScores(scores, name, type):\n",
    "    print(\"{} - {} set\".format(name, type))\n",
    "    print(\"MAE: {}\".format(scores[0]))\n",
    "    print(\"RMSE: {}\".format(scores[1]))\n",
    "    print(\"MAPE: {}\".format(scores[2]))"
   ]
  },
  {
   "cell_type": "markdown",
   "id": "d45d17f1",
   "metadata": {},
   "source": [
    "Next, since our target variable is normalized, we need to convert the predictions back to the original scale. We will define a function that uses the inverse_transform method of the StandardScaler class to do this."
   ]
  },
  {
   "cell_type": "code",
   "execution_count": 85,
   "id": "9e475a23",
   "metadata": {},
   "outputs": [],
   "source": [
    "def descale(y_pred, y_true):\n",
    "    y_pred_descaled = targetScaler.inverse_transform(y_pred.reshape(-1, 1))\n",
    "    y_true_descaled = targetScaler.inverse_transform(y_true.values.reshape(-1, 1))\n",
    "    return y_pred_descaled, y_true_descaled"
   ]
  },
  {
   "cell_type": "markdown",
   "id": "0241f38f",
   "metadata": {},
   "source": [
    "Lastly, let's define a function that will help us get predictions and evaluate the model. We will also store the scores for easy comparison later."
   ]
  },
  {
   "cell_type": "code",
   "execution_count": 86,
   "id": "f742f1bc",
   "metadata": {},
   "outputs": [],
   "source": [
    "train_scores = {'Model': [], 'MAE': [], 'RMSE': [], 'MAPE': []}\n",
    "test_scores = {'Model': [], 'MAE': [], 'RMSE': [], 'MAPE': []}\n",
    "\n",
    "def getPredictions(model, X, y, name, type='train'):\n",
    "    y_pred = model.predict(X)\n",
    "    y_pred_descaled, y_true_descaled = descale(y_pred, y)\n",
    "    scores = getScore(y_true_descaled, y_pred_descaled)\n",
    "    if type == 'train':\n",
    "        train_scores['Model'].append(name)\n",
    "        train_scores['MAE'].append(scores[0])\n",
    "        train_scores['RMSE'].append(scores[1])\n",
    "        train_scores['MAPE'].append(scores[2])\n",
    "    else:\n",
    "        test_scores['Model'].append(name)\n",
    "        test_scores['MAE'].append(scores[0])\n",
    "        test_scores['RMSE'].append(scores[1])\n",
    "        test_scores['MAPE'].append(scores[2])\n",
    "    printScores(scores, name, type)\n",
    "    return y_pred_descaled"
   ]
  },
  {
   "cell_type": "markdown",
   "id": "e3676f57",
   "metadata": {},
   "source": [
    "We are all set to start training our models!"
   ]
  },
  {
   "cell_type": "markdown",
   "id": "34273922",
   "metadata": {},
   "source": [
    "## Training the models"
   ]
  },
  {
   "cell_type": "markdown",
   "id": "47a5c224",
   "metadata": {},
   "source": [
    "### Multiple Linear Regression"
   ]
  },
  {
   "cell_type": "code",
   "execution_count": 87,
   "id": "5c700a27",
   "metadata": {},
   "outputs": [
    {
     "name": "stdout",
     "output_type": "stream",
     "text": [
      "Multiple Linear Regression - train set\n",
      "MAE: 1470.81\n",
      "RMSE: 1891.07\n",
      "MAPE: 0.1\n"
     ]
    }
   ],
   "source": [
    "lr = LinearRegression()\n",
    "lr.fit(X_train, y_train)\n",
    "\n",
    "y_pred_train = getPredictions(lr, X_train, y_train, \"Multiple Linear Regression\")"
   ]
  },
  {
   "cell_type": "markdown",
   "id": "227ca1fe",
   "metadata": {},
   "source": [
    "### Random Forest Regression (RFR)"
   ]
  },
  {
   "cell_type": "code",
   "execution_count": 88,
   "id": "a87ee401",
   "metadata": {},
   "outputs": [
    {
     "name": "stdout",
     "output_type": "stream",
     "text": [
      "Random Forest Regression - train set\n",
      "MAE: 1148.77\n",
      "RMSE: 1446.05\n",
      "MAPE: 0.08\n"
     ]
    }
   ],
   "source": [
    "rfr = RandomForestRegressor(n_estimators=100, random_state=42)\n",
    "rfr.fit(X_train, y_train)\n",
    "\n",
    "y_pred_train = getPredictions(rfr, X_train, y_train, \"Random Forest Regression\")"
   ]
  },
  {
   "cell_type": "markdown",
   "id": "c5d75202",
   "metadata": {},
   "source": [
    "### Support Vector Regression (SVR)"
   ]
  },
  {
   "cell_type": "code",
   "execution_count": 89,
   "id": "ed605d40",
   "metadata": {},
   "outputs": [
    {
     "name": "stdout",
     "output_type": "stream",
     "text": [
      "Support Vector Regression - train set\n",
      "MAE: 143684.28\n",
      "RMSE: 171835.16\n",
      "MAPE: 12.47\n"
     ]
    }
   ],
   "source": [
    "svr = SVR(kernel='rbf', gamma='auto')\n",
    "svr.fit(X_train, y_train)\n",
    "\n",
    "y_pred_train = getPredictions(svr, X_train, y_train, \"Support Vector Regression\")"
   ]
  },
  {
   "cell_type": "markdown",
   "id": "192ec49e",
   "metadata": {},
   "source": [
    "### Neural Network Regression (NNR)"
   ]
  },
  {
   "cell_type": "code",
   "execution_count": 90,
   "id": "ac7c2c90",
   "metadata": {},
   "outputs": [
    {
     "name": "stdout",
     "output_type": "stream",
     "text": [
      "Neural Network Regression - train set\n",
      "MAE: 71864.98\n",
      "RMSE: 89300.55\n",
      "MAPE: 5.67\n"
     ]
    }
   ],
   "source": [
    "nnr = MLPRegressor(hidden_layer_sizes=(100, 100), max_iter=500, random_state=42)\n",
    "nnr.fit(X_train, y_train)\n",
    "\n",
    "y_pred_train = getPredictions(nnr, X_train, y_train, \"Neural Network Regression\")"
   ]
  },
  {
   "cell_type": "markdown",
   "id": "3d1bd594",
   "metadata": {},
   "source": [
    "### Gradient Boosting Regression (GBR)\n",
    "Altough we did not plan to use Gradient Boosting Regression (GBR) for our model, we decided to give it a try after seeing the results of the other models. We will use the **GradientBoostingRegressor** class from scikit-learn to train our model."
   ]
  },
  {
   "cell_type": "code",
   "execution_count": 91,
   "id": "b029b504",
   "metadata": {},
   "outputs": [
    {
     "name": "stdout",
     "output_type": "stream",
     "text": [
      "Gradient Boosting Regression - train set\n",
      "MAE: 14713.89\n",
      "RMSE: 19557.61\n",
      "MAPE: 0.71\n"
     ]
    }
   ],
   "source": [
    "from sklearn.ensemble import GradientBoostingRegressor\n",
    "\n",
    "gbr = GradientBoostingRegressor(n_estimators=100, random_state=42)\n",
    "gbr.fit(X_train, y_train)\n",
    "\n",
    "y_pred_train = getPredictions(gbr, X_train, y_train, \"Gradient Boosting Regression\")"
   ]
  },
  {
   "cell_type": "markdown",
   "id": "1f54063e",
   "metadata": {},
   "source": [
    "## Evaluating the models"
   ]
  },
  {
   "cell_type": "markdown",
   "id": "8b1b166b",
   "metadata": {},
   "source": [
    "### Multiple Linear Regression"
   ]
  },
  {
   "cell_type": "code",
   "execution_count": 92,
   "id": "2714974b",
   "metadata": {},
   "outputs": [
    {
     "name": "stdout",
     "output_type": "stream",
     "text": [
      "Multiple Linear Regression - test set\n",
      "MAE: 1509.3\n",
      "RMSE: 1922.3\n",
      "MAPE: 0.09\n"
     ]
    }
   ],
   "source": [
    "y_pred_test = getPredictions(lr, X_test, y_test, \"Multiple Linear Regression\", type=\"test\")"
   ]
  },
  {
   "cell_type": "markdown",
   "id": "776b3f4a",
   "metadata": {},
   "source": [
    "**Insights:** The MAE and RMSE are very low considering that mean price is 5 million. This means that the model is able to predict the price of a property with a high degree of accuracy. The MAPE is also low, which means that on average we are only off by 0.09% of the actual price. This is a very good result, and we can conclude that the model is a good fit for the data."
   ]
  },
  {
   "cell_type": "markdown",
   "id": "5b1ab387",
   "metadata": {},
   "source": [
    "### Random Forest Regression (RFR)"
   ]
  },
  {
   "cell_type": "code",
   "execution_count": 93,
   "id": "d1c0e9ff",
   "metadata": {},
   "outputs": [
    {
     "name": "stdout",
     "output_type": "stream",
     "text": [
      "Random Forest Regression - test set\n",
      "MAE: 3167.84\n",
      "RMSE: 3972.11\n",
      "MAPE: 0.24\n"
     ]
    }
   ],
   "source": [
    "y_pred_test = getPredictions(rfr, X_test, y_test, \"Random Forest Regression\", type=\"test\")"
   ]
  },
  {
   "cell_type": "markdown",
   "id": "a4d27ba5",
   "metadata": {},
   "source": [
    "**Insights:** Here again, the MAE and RMSE are very low. The MAPE is also low, on average we are only off by 0.24% of the actual price. Of course, the Multiple Linear Regression model is slightly better, but considering that the MAPE is already very low (less than 1%), we can conclude that the model is a good fit for the data."
   ]
  },
  {
   "cell_type": "markdown",
   "id": "9228e025",
   "metadata": {},
   "source": [
    "### Support Vector Regression (SVR)"
   ]
  },
  {
   "cell_type": "code",
   "execution_count": 94,
   "id": "b3c80c35",
   "metadata": {},
   "outputs": [
    {
     "name": "stdout",
     "output_type": "stream",
     "text": [
      "Support Vector Regression - test set\n",
      "MAE: 168039.08\n",
      "RMSE: 224916.35\n",
      "MAPE: 21.69\n"
     ]
    }
   ],
   "source": [
    "y_pred_test = getPredictions(svr, X_test, y_test, \"Support Vector Regression\", type=\"test\")"
   ]
  },
  {
   "cell_type": "markdown",
   "id": "e1a70c94",
   "metadata": {},
   "source": [
    "**Insights:** The MAE and RMSE are acceptable while considering that the mean price of is 5 millions. However, the MAPE tells use that on average we are off by 21.69% of the actual price. This is not a helpful result for our purposes, and we can conclude that the model is not a good fit for the data."
   ]
  },
  {
   "cell_type": "markdown",
   "id": "2284e7c0",
   "metadata": {},
   "source": [
    "### Neural Network Regression (NNR)"
   ]
  },
  {
   "cell_type": "code",
   "execution_count": 95,
   "id": "d85f757a",
   "metadata": {},
   "outputs": [
    {
     "name": "stdout",
     "output_type": "stream",
     "text": [
      "Neural Network Regression - test set\n",
      "MAE: 81665.36\n",
      "RMSE: 104629.96\n",
      "MAPE: 6.29\n"
     ]
    }
   ],
   "source": [
    "y_pred_test = getPredictions(nnr, X_test, y_test, \"Neural Network Regression\", type=\"test\")"
   ]
  },
  {
   "cell_type": "markdown",
   "id": "374257d4",
   "metadata": {},
   "source": [
    "**Insights:** Although the MAE and RMSE look slightly higher than the other models, the MAPE is low, on average we are only off by 6.29% of the actual price. This is acceptable result (less than 10%), one that could be useful for our purposes."
   ]
  },
  {
   "cell_type": "markdown",
   "id": "378c8dd9",
   "metadata": {},
   "source": [
    "### Gradient Boosting Regression (GBR)"
   ]
  },
  {
   "cell_type": "code",
   "execution_count": 96,
   "id": "9c7b5375",
   "metadata": {},
   "outputs": [
    {
     "name": "stdout",
     "output_type": "stream",
     "text": [
      "Gradient Boosting Regression - test set\n",
      "MAE: 15221.41\n",
      "RMSE: 20131.16\n",
      "MAPE: 0.78\n"
     ]
    }
   ],
   "source": [
    "y_pred_test = getPredictions(gbr, X_test, y_test, \"Gradient Boosting Regression\", type=\"test\")"
   ]
  },
  {
   "cell_type": "markdown",
   "id": "e5d88b15",
   "metadata": {},
   "source": [
    "**Insights:** The MAE and the RMSE are low compared to the mean property price. Also, according to the MAPE, on average we only of by 0.78% of the actual price. This is a very good result, and we can conclude that the model is a good fit for the data."
   ]
  },
  {
   "cell_type": "markdown",
   "id": "c7f589ca",
   "metadata": {},
   "source": [
    "## Comparing the models\n",
    "Let's compare the models based on the MAE, RMSE, and MAPE.\n",
    "\n",
    "First, let's plot the MAE on the test set for each model."
   ]
  },
  {
   "cell_type": "code",
   "execution_count": 97,
   "id": "246ac5e3",
   "metadata": {},
   "outputs": [
    {
     "data": {
      "text/plain": [
       "<Axes: xlabel='MAE', ylabel='Model'>"
      ]
     },
     "execution_count": 97,
     "metadata": {},
     "output_type": "execute_result"
    },
    {
     "data": {
      "image/png": "[encoded data removed]",
      "text/plain": [
       "<Figure size 640x480 with 1 Axes>"
      ]
     },
     "metadata": {},
     "output_type": "display_data"
    }
   ],
   "source": [
    "test_scores = pd.DataFrame(test_scores)\n",
    "sns.barplot(x='MAE', y='Model', data=test_scores.sort_values(by='MAE', ascending=True), color='steelblue')"
   ]
  },
  {
   "cell_type": "markdown",
   "id": "4e810afd",
   "metadata": {},
   "source": [
    "Next, let's plot the RMSE on the test set for each model."
   ]
  },
  {
   "cell_type": "code",
   "execution_count": 98,
   "id": "624729b1",
   "metadata": {},
   "outputs": [
    {
     "data": {
      "text/plain": [
       "<Axes: xlabel='RMSE', ylabel='Model'>"
      ]
     },
     "execution_count": 98,
     "metadata": {},
     "output_type": "execute_result"
    },
    {
     "data": {
      "image/png": "[encoded data removed]",
      "text/plain": [
       "<Figure size 640x480 with 1 Axes>"
      ]
     },
     "metadata": {},
     "output_type": "display_data"
    }
   ],
   "source": [
    "sns.barplot(x='RMSE', y='Model', data=test_scores.sort_values(by='RMSE', ascending=True), color='steelblue')"
   ]
  },
  {
   "cell_type": "markdown",
   "id": "5fe08d98",
   "metadata": {},
   "source": [
    "**Insight:** We can see that outliers do not have a significant effect since the values between the two metrics are very close. This validates the outlier treatment we performed in earlier sections.\n",
    "\n",
    "Finally, let's plot the MAPE on the test set for each model."
   ]
  },
  {
   "cell_type": "code",
   "execution_count": 99,
   "id": "85981d80",
   "metadata": {},
   "outputs": [
    {
     "data": {
      "text/plain": [
       "<Axes: xlabel='MAPE', ylabel='Model'>"
      ]
     },
     "execution_count": 99,
     "metadata": {},
     "output_type": "execute_result"
    },
    {
     "data": {
      "image/png": "[encoded data removed]",
      "text/plain": [
       "<Figure size 640x480 with 1 Axes>"
      ]
     },
     "metadata": {},
     "output_type": "display_data"
    }
   ],
   "source": [
    "sns.barplot(x='MAPE', y='Model', data=test_scores.sort_values(by='MAPE', ascending=True), color='steelblue')"
   ]
  },
  {
   "cell_type": "markdown",
   "id": "519b1d69",
   "metadata": {},
   "source": [
    "**Insights:** We can conclude that the Multiple Linear Regression model is the best fit for the data, followed by the Random Forest Regression model and the Gradient Boosting Regression model, which are all highly accurate and are or average off by less than 1%. The Neural Network Regression model also gives good results, with an average error of less than 10%. However, the Support Vector Regression model is not very accurate but gives reasonable results, with an average error of more than 20%."
   ]
  },
  {
   "cell_type": "markdown",
   "id": "4ef57690",
   "metadata": {},
   "source": [
    "# Deployment\n",
    "Here's how we can to make our model accessible to the users:\n",
    "\n",
    "* **Personal Use** (Web App): A user-friendly web application can be developed where homeowners can input the relevant features of their property, such as size, location, age, etc. After entering the information, the model will predict and display the estimated property value. This empowers homeowners to make informed decisions about whether to sell, buy or exchange their properties. Technologies like Flask or Django can be used in combination with HTML/CSS/JavaScript to develop the web application.\n",
    "\n",
    "* **Business Use** (API): For businesses such as real estate agencies and property listing websites, providing access to the model via an API is highly beneficial. Agencies can integrate the API into their existing platforms or tools. When the property data is sent to the API, the model will return an estimated value which can assist agents to align with the market value, reduce human errors and speed up the estimation process. This also adds value to property listing platforms by automatically suggesting a selling/buying price, enhancing the user experience and potentially increasing revenues. Flask, Django or FastAPI can be used to develop the API."
   ]
  },
  {
   "cell_type": "markdown",
   "id": "ccbd5445",
   "metadata": {},
   "source": [
    "# Conclusion\n",
    "In this project, we built a model to predict the price of properties in the city of Paris. We used data from a curated dataset on Kaggle, which contained information about properties sold in Paris as well as their features and amenities. We performed exploratory data analysis to understand the data and prepare it for modeling. We then trained and evaluated five different models: Multiple Linear Regression, Random Forest Regression, Support Vector Regression, Neural Network Regression, and Gradient Boosting Regression. We compared the models based on the MAE, RMSE, and MAPE. We concluded that the Multiple Linear Regression model is the best fit for the data, followed by the Random Forest Regression model and the Gradient Boosting Regression model, which are all highly accurate and are or average off by less than 1%. The Neural Network Regression model also gives good results, with an average error of less than 10%. However, the Support Vector Regression model is not very accurate but gives reasonable results, with an average error of more than 20%."
   ]
  }
 ],
 "metadata": {
  "kernelspec": {
   "display_name": "Python 3 (ipykernel)",
   "language": "python",
   "name": "python3"
  },
  "language_info": {
   "codemirror_mode": {
    "name": "ipython",
    "version": 3
   },
   "file_extension": ".py",
   "mimetype": "text/x-python",
   "name": "python",
   "nbconvert_exporter": "python",
   "pygments_lexer": "ipython3",
   "version": "3.9.13"
  }
 },
 "nbformat": 4,
 "nbformat_minor": 5
}
